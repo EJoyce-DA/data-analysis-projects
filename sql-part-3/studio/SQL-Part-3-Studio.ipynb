{
 "cells": [
  {
   "cell_type": "markdown",
   "metadata": {},
   "source": [
    "# SQL Part 3 Studio\n",
    "\n",
    "Let's practice your SQL querying skills! For each question, work along in the notebook, adding your query and answering the questions.\n",
    "\n",
    "## The Dataset\n",
    "\n",
    "We will be using the Goodbooks-10k dataset from the exercises in the prep work. Feel free reference your previous notebooks.\n",
    "\n",
    "1. The dataset can be found here: [goodbooks-10k](https://www.kaggle.com/zygmunt/goodbooks-10k)\n",
    "1. You can access `BooksDB` in the LaunchCode server.\n",
    "\n",
    "## Business Issue\n",
    "\n",
    "You are an employee at a small independent bookstore and you have been tasked with increasing sales.  You decide to use `BooksDB` to find books and themes to highlight in fun promotions throughout each month and/or season.  We will be starting with March and then you will have a chance to explore another month of your choosing.  We want to come up with a list of promotions to run each month.  If you are looking for ideas, here are some resources on different holidays:\n",
    "\n",
    "- [https://www.calendarr.com/united-states/calendar-2022/](https://www.calendarr.com/united-states/calendar-2022/)\n",
    "- [https://www.holidayinsights.com/moreholidays/](https://www.holidayinsights.com/moreholidays/)\n",
    "    - Click on a month and it will take you to a more detailed page"
   ]
  },
  {
   "cell_type": "markdown",
   "metadata": {},
   "source": [
    "## Part 1:  March - Women's History Month, National Pie Day (3/14), St. Patrick's Day (3/17), Season - Spring"
   ]
  },
  {
   "cell_type": "markdown",
   "metadata": {},
   "source": [
    "### Event 1: Women's History Month\n",
    "\n",
    "Highlight popular women writers based on ratings from `BooksDB` by writing a query that returns `tag_id`, the number of times each `tag_id` is used and the `tag_name`. Use the `GROUP BY` and `HAVING` clause to narrow your focus and try multiple keywords, such as \"woman\" and \"female\"."
   ]
  },
  {
   "cell_type": "code",
   "execution_count": null,
   "metadata": {
    "vscode": {
     "languageId": "sql"
    }
   },
   "outputs": [],
   "source": [
    "-- Solution\n",
    "SELECT TOP 10 t.tag_name, bt.tag_id, SUM(bt.count) AS total, b.author  \n",
    "FROM BooksDB.dbo.book_tags AS bt\n",
    "INNER JOIN BooksDB.dbo.tags AS t \n",
    "ON bt.tag_id = t.tag_id\n",
    "LEFT JOIN BooksDB.dbo.books AS b  \n",
    "ON bt.goodreads_book_id = b.book_id \n",
    "GROUP BY t.tag_name, bt.tag_id\n",
    "HAVING t.tag_name LIKE '%female%'\n",
    "ORDER BY total DESC\n"
   ]
  },
  {
   "cell_type": "markdown",
   "metadata": {},
   "source": [
    "### Event 2: Choose another event from March/Spring\n",
    "\n",
    "Write a query to return authors, titles, ratings, and `tag_id` that you would want to promote during your chosen event."
   ]
  },
  {
   "cell_type": "code",
   "execution_count": null,
   "metadata": {
    "vscode": {
     "languageId": "sql"
    }
   },
   "outputs": [],
   "source": [
    "-- Solution\n",
    "SELECT TOP 10 t.tag_name, bt.tag_id, SUM(bt.count) AS total, b.title, b.authors, b.average_rating\n",
    "FROM BooksDB.dbo.book_tags AS bt\n",
    "INNER JOIN BooksDB.dbo.tags AS t \n",
    "ON bt.tag_id = t.tag_id\n",
    "RIGHT JOIN BooksDB.dbo.books AS b  \n",
    "ON bt.goodreads_book_id = b.book_id \n",
    "GROUP BY t.tag_name, bt.tag_id, b.title, b.authors, b.average_rating\n",
    "HAVING t.tag_name LIKE 'spring%'\n",
    "ORDER BY total DESC\n",
    "\n",
    "/*\n",
    "I pulled the information on tags from book_tags and tags, using sum(bt.count) to count the total number of tags for each book.\n",
    "I also joined books to get the authors, titles, and average rating. I searched the tag_name 'spring%' to find books that were related to spring for a \n",
    "\"springtime\" themed March event. \n",
    "The inner join works for joining book_tags and tags because it is not necessary to return any results that might nto be shared. \n",
    "I used the right join for joining books in order to get all of the information that would be needed from books. "
   ]
  },
  {
   "cell_type": "markdown",
   "metadata": {},
   "source": [
    "Record your thoughts about why you wrote the query the way you did."
   ]
  },
  {
   "cell_type": "markdown",
   "metadata": {},
   "source": [
    "# Part 2: Choose Another Month\n",
    "\n",
    "Choose another month and plan at least 2 events / promotions and answer the following questions:\n",
    "1. Which month did you choose?\n",
    "1. What 2 events / promotions are you highlighting?"
   ]
  },
  {
   "cell_type": "code",
   "execution_count": null,
   "metadata": {
    "vscode": {
     "languageId": "sql"
    }
   },
   "outputs": [],
   "source": [
    "/* \n",
    "I chose October, and I will do a \"fall\" themed event and a \"Halloween\" themed event. "
   ]
  },
  {
   "cell_type": "markdown",
   "metadata": {},
   "source": [
    "# Part 3: Summarize your Work\n",
    "\n",
    "For each event write at least one query that joins any two tables in `BooksDB` to support your choice and record you thoughts as to why you used the paticlular query. At least one of your queries needs to include a `HAVING` clause."
   ]
  },
  {
   "cell_type": "code",
   "execution_count": null,
   "metadata": {
    "vscode": {
     "languageId": "sql"
    }
   },
   "outputs": [],
   "source": [
    "-- Event 1 Query\n",
    "SELECT b.title, b.authors, bt.tag_id, t.tag_name, b.average_rating\n",
    "From BooksDB.dbo.books as b  \n",
    "INNER JOIN BooksDB.dbo.book_tags as bt  \n",
    "    ON b.book_id = bt.goodreads_book_id\n",
    "INNER JOIN BooksDB.dbo.tags as t  \n",
    "    ON bt.tag_id = t.tag_id\n",
    "WHERE b.average_rating > 3 AND t.tag_name LIKE '%halloween%' OR t.tag_name LIKE '%spooky%'\n",
    "ORDER BY b.average_rating DESC \n",
    "\n",
    "SELECT b.title, b.authors, count(bt.tag_id) as number_of_tags, t.tag_name, b.average_rating\n",
    "From BooksDB.dbo.books as b  \n",
    "INNER JOIN BooksDB.dbo.book_tags as bt  \n",
    "    ON b.book_id = bt.goodreads_book_id\n",
    "INNER JOIN BooksDB.dbo.tags as t  \n",
    "    ON bt.tag_id = t.tag_id\n",
    "GROUP BY bt.tag_id, b.title, b.authors, t.tag_name, b.average_rating\n",
    "HAVING b.average_rating > 3 AND t.tag_name LIKE '%halloween%' OR t.tag_name LIKE '%spooky%'\n",
    "ORDER BY b.average_rating desc \n"
   ]
  },
  {
   "cell_type": "markdown",
   "metadata": {},
   "source": [
    "### Summarize Event 1\n",
    "\n",
    "Double-click to edit.\n",
    "\n",
    "Event 1 is about the highest rated books that are tagged \"spooky\" or \"Halloween\". I wanted books that had an average rating > 3 in the spooky/Halloween genre. The goal is to promote the best books in this category. "
   ]
  },
  {
   "cell_type": "code",
   "execution_count": null,
   "metadata": {
    "vscode": {
     "languageId": "sql"
    }
   },
   "outputs": [],
   "source": [
    "-- Event 2 Query "
   ]
  },
  {
   "cell_type": "markdown",
   "metadata": {},
   "source": [
    "### Summarize Event 2\n",
    "\n",
    "Double-click to edit."
   ]
  }
 ],
 "metadata": {
  "language_info": {
   "name": "python"
  }
 },
 "nbformat": 4,
 "nbformat_minor": 2
}
